{
 "cells": [
  {
   "cell_type": "markdown",
   "id": "5be56039-b524-4dd8-8146-f4b715daa4a7",
   "metadata": {},
   "source": [
    "## Titanic Dataset Analysis and Gradient Boosting Regressor Model Report"
   ]
  },
  {
   "cell_type": "markdown",
   "id": "51925ae5-3a6b-427c-88eb-2e45fbdd0508",
   "metadata": {},
   "source": [
    "## 1. Introduction"
   ]
  },
  {
   "cell_type": "markdown",
   "id": "057c2dad-865d-4099-ab72-961c031fe211",
   "metadata": {},
   "source": [
    "This report presents an in-depth analysis of the healthcare dataset and the implementation of a Gradient Boosting regression model. The objective is to analyze the dataset, perform preprocessing, build a predictive model, and evaluate its performance."
   ]
  },
  {
   "cell_type": "markdown",
   "id": "69059d9e-84d7-4ebb-a0f1-3b0afbc4216e",
   "metadata": {},
   "source": [
    "## 2. Libraries Used"
   ]
  },
  {
   "cell_type": "markdown",
   "id": "b9187dcf-ef0f-417a-b680-7c047aba4af6",
   "metadata": {},
   "source": [
    "The following libraries were used in the project:"
   ]
  },
  {
   "cell_type": "code",
   "execution_count": 23,
   "id": "d9a01fff-fa25-4dff-8503-3dda2bcdb58e",
   "metadata": {},
   "outputs": [],
   "source": [
    "import pandas as pd\n",
    "import numpy as np\n",
    "import seaborn as sns\n",
    "from sklearn.model_selection import train_test_split\n",
    "from sklearn.ensemble import GradientBoostingRegressor\n",
    "from sklearn.metrics import mean_squared_error, r2_score\n",
    "from sklearn.impute import SimpleImputer\n",
    "from sklearn.preprocessing import LabelEncoder, StandardScaler"
   ]
  },
  {
   "cell_type": "markdown",
   "id": "49050923-7f4c-4ba2-9bda-b4ceb74e36ad",
   "metadata": {},
   "source": [
    "## 3. Dataset Overview"
   ]
  },
  {
   "cell_type": "markdown",
   "id": "e3d3611d-7cb6-41c2-88e0-0ee28fcb9d25",
   "metadata": {},
   "source": [
    "The dataset used in this project is the Titanic dataset. It contains multiple attributes related to passengers and their survival chances. The goal is to predict whether a passenger survived based on their details."
   ]
  },
  {
   "cell_type": "markdown",
   "id": "a782e37b-d018-423b-855f-032171621d94",
   "metadata": {},
   "source": [
    "### 3.1 Number of Columns\n",
    "\n",
    "The dataset consists of the following columns:\n",
    "\n",
    "- **PassengerId**: Unique identifier for passengers  \n",
    "- **Survived**: Target variable (1 = Survived, 0 = Did not survive)  \n",
    "- **Pclass**: Passenger class (1st, 2nd, or 3rd class)  \n",
    "- **Name**: Name of the passenger  \n",
    "- **Sex**: Gender of the passenger  \n",
    "- **Age**: Age of the passenger  \n",
    "- **SibSp**: Number of siblings/spouses aboard  \n",
    "- **Parch**: Number of parents/children aboard  \n",
    "- **Ticket**: Ticket number  \n",
    "- **Fare**: Fare paid for the ticket  \n",
    "- **Cabin**: Cabin number, if available  \n",
    "- **Embarked**: Port of embarkation (C, Q, or S)  \n",
    "\n",
    "\n",
    "\n",
    "### 3.2 Relationship Between Columns\n",
    "\n",
    "- **Pclass, Fare, and Cabin**: Higher-class passengers may have had better survival chances.  \n",
    "- **Age and SibSp/Parch**: Younger passengers and those traveling with family might have had a better chance of survival.  \n",
    "- **Sex**: Women had a higher survival rate than men.  \n",
    "- **Embarked**: The port where the passenger boarded might influence survival.  \n"
   ]
  },
  {
   "cell_type": "markdown",
   "id": "0e6b702b-cf4c-43be-9027-30aa2ce3b58c",
   "metadata": {},
   "source": [
    "## 4. Basic Analysis"
   ]
  },
  {
   "cell_type": "markdown",
   "id": "84a4434f-bcf8-4957-944d-b793e864066c",
   "metadata": {},
   "source": [
    "The dataset was loaded and examined using the following functions:"
   ]
  },
  {
   "cell_type": "code",
   "execution_count": 24,
   "id": "e4baa126-2b01-4b3a-af46-2d0836efa4d0",
   "metadata": {},
   "outputs": [
    {
     "name": "stdout",
     "output_type": "stream",
     "text": [
      "   PassengerId  Survived  Pclass  \\\n",
      "0            1         0       3   \n",
      "1            2         1       1   \n",
      "2            3         1       3   \n",
      "3            4         1       1   \n",
      "4            5         0       3   \n",
      "\n",
      "                                                Name     Sex   Age  SibSp  \\\n",
      "0                            Braund, Mr. Owen Harris    male  22.0      1   \n",
      "1  Cumings, Mrs. John Bradley (Florence Briggs Th...  female  38.0      1   \n",
      "2                             Heikkinen, Miss. Laina  female  26.0      0   \n",
      "3       Futrelle, Mrs. Jacques Heath (Lily May Peel)  female  35.0      1   \n",
      "4                           Allen, Mr. William Henry    male  35.0      0   \n",
      "\n",
      "   Parch            Ticket     Fare Cabin Embarked  \n",
      "0      0         A/5 21171   7.2500   NaN        S  \n",
      "1      0          PC 17599  71.2833   C85        C  \n",
      "2      0  STON/O2. 3101282   7.9250   NaN        S  \n",
      "3      0            113803  53.1000  C123        S  \n",
      "4      0            373450   8.0500   NaN        S  \n",
      "     PassengerId  Survived  Pclass                                      Name  \\\n",
      "886          887         0       2                     Montvila, Rev. Juozas   \n",
      "887          888         1       1              Graham, Miss. Margaret Edith   \n",
      "888          889         0       3  Johnston, Miss. Catherine Helen \"Carrie\"   \n",
      "889          890         1       1                     Behr, Mr. Karl Howell   \n",
      "890          891         0       3                       Dooley, Mr. Patrick   \n",
      "\n",
      "        Sex   Age  SibSp  Parch      Ticket   Fare Cabin Embarked  \n",
      "886    male  27.0      0      0      211536  13.00   NaN        S  \n",
      "887  female  19.0      0      0      112053  30.00   B42        S  \n",
      "888  female   NaN      1      2  W./C. 6607  23.45   NaN        S  \n",
      "889    male  26.0      0      0      111369  30.00  C148        C  \n",
      "890    male  32.0      0      0      370376   7.75   NaN        Q  \n",
      "<class 'pandas.core.frame.DataFrame'>\n",
      "RangeIndex: 891 entries, 0 to 890\n",
      "Data columns (total 12 columns):\n",
      " #   Column       Non-Null Count  Dtype  \n",
      "---  ------       --------------  -----  \n",
      " 0   PassengerId  891 non-null    int64  \n",
      " 1   Survived     891 non-null    int64  \n",
      " 2   Pclass       891 non-null    int64  \n",
      " 3   Name         891 non-null    object \n",
      " 4   Sex          891 non-null    object \n",
      " 5   Age          714 non-null    float64\n",
      " 6   SibSp        891 non-null    int64  \n",
      " 7   Parch        891 non-null    int64  \n",
      " 8   Ticket       891 non-null    object \n",
      " 9   Fare         891 non-null    float64\n",
      " 10  Cabin        204 non-null    object \n",
      " 11  Embarked     889 non-null    object \n",
      "dtypes: float64(2), int64(5), object(5)\n",
      "memory usage: 83.7+ KB\n",
      "None\n",
      "       PassengerId    Survived      Pclass         Age       SibSp  \\\n",
      "count   891.000000  891.000000  891.000000  714.000000  891.000000   \n",
      "mean    446.000000    0.383838    2.308642   29.699118    0.523008   \n",
      "std     257.353842    0.486592    0.836071   14.526497    1.102743   \n",
      "min       1.000000    0.000000    1.000000    0.420000    0.000000   \n",
      "25%     223.500000    0.000000    2.000000   20.125000    0.000000   \n",
      "50%     446.000000    0.000000    3.000000   28.000000    0.000000   \n",
      "75%     668.500000    1.000000    3.000000   38.000000    1.000000   \n",
      "max     891.000000    1.000000    3.000000   80.000000    8.000000   \n",
      "\n",
      "            Parch        Fare  \n",
      "count  891.000000  891.000000  \n",
      "mean     0.381594   32.204208  \n",
      "std      0.806057   49.693429  \n",
      "min      0.000000    0.000000  \n",
      "25%      0.000000    7.910400  \n",
      "50%      0.000000   14.454200  \n",
      "75%      0.000000   31.000000  \n",
      "max      6.000000  512.329200  \n"
     ]
    }
   ],
   "source": [
    "data = pd.read_csv(r\"C:\\Users\\Shaik Sakhlaih\\Downloads\\titanic.csv\")\n",
    "print(data.head())\n",
    "print(data.tail())\n",
    "print(data.info())\n",
    "print(data.describe())"
   ]
  },
  {
   "cell_type": "markdown",
   "id": "8633fe0a-cde2-4331-b426-d47f2c7e3045",
   "metadata": {},
   "source": [
    "### 4.1 Checking for Null Values"
   ]
  },
  {
   "cell_type": "code",
   "execution_count": 25,
   "id": "7b6e41f3-1c5f-451c-bb5b-94212f5b4e41",
   "metadata": {},
   "outputs": [
    {
     "name": "stdout",
     "output_type": "stream",
     "text": [
      "PassengerId      0\n",
      "Survived         0\n",
      "Pclass           0\n",
      "Name             0\n",
      "Sex              0\n",
      "Age            177\n",
      "SibSp            0\n",
      "Parch            0\n",
      "Ticket           0\n",
      "Fare             0\n",
      "Cabin          687\n",
      "Embarked         2\n",
      "dtype: int64\n"
     ]
    }
   ],
   "source": [
    "print(data.isnull().sum())"
   ]
  },
  {
   "cell_type": "markdown",
   "id": "4493bfda-d145-4a35-b509-1e1d791dc3b3",
   "metadata": {},
   "source": [
    "### Missing Values\n",
    "\n",
    "- **Age**: 177 missing values  \n",
    "- **Cabin**: 687 missing values  \n",
    "- **Embarked**: 2 missing values  \n"
   ]
  },
  {
   "cell_type": "markdown",
   "id": "28072362-e721-41a9-8485-126097ee6363",
   "metadata": {},
   "source": [
    "## 5. Data Preprocessing"
   ]
  },
  {
   "cell_type": "markdown",
   "id": "339a0057-68f0-4307-acc1-2c8dd557f75a",
   "metadata": {},
   "source": [
    "To handle missing values, we replaced them with the mode:"
   ]
  },
  {
   "cell_type": "code",
   "execution_count": 26,
   "id": "1165f57e-f024-4050-93eb-8e4a8f192068",
   "metadata": {},
   "outputs": [],
   "source": [
    "imputer = SimpleImputer(strategy='most_frequent')\n",
    "data[['Age', 'Cabin', 'Embarked']] = imputer.fit_transform(data[['Age', 'Cabin', 'Embarked']])"
   ]
  },
  {
   "cell_type": "markdown",
   "id": "a6a01496-d823-4408-8cb1-ce9cb2ec5d70",
   "metadata": {},
   "source": [
    "Since the dataset contains categorical variables, we used Label Encoding to convert them into numeric values:"
   ]
  },
  {
   "cell_type": "code",
   "execution_count": 27,
   "id": "526d5816-e880-4fa5-8ac5-9695001ec452",
   "metadata": {},
   "outputs": [],
   "source": [
    "le = LabelEncoder()\n",
    "data['Name'] = le.fit_transform(data['Name'])\n",
    "data['Cabin'] = le.fit_transform(data['Cabin'])\n",
    "data['Ticket'] = le.fit_transform(data['Ticket'])"
   ]
  },
  {
   "cell_type": "markdown",
   "id": "fa66aebe-91fe-4b73-a2b4-b94945effa28",
   "metadata": {},
   "source": [
    "## 6. Model Building"
   ]
  },
  {
   "cell_type": "markdown",
   "id": "3dcf4d30-5c19-4835-b3c4-a2c8558461e7",
   "metadata": {},
   "source": [
    "The Survived column is the target variable (y), while the remaining columns are features (X)."
   ]
  },
  {
   "cell_type": "code",
   "execution_count": 29,
   "id": "0b5dfb44-9b40-47dd-bdab-c0db6f86bdd0",
   "metadata": {},
   "outputs": [],
   "source": [
    "x = data.drop(['Survived'], axis=1)\n",
    "y = data['Survived']\n",
    "\n",
    "x_train, x_test, y_train, y_test = train_test_split(x, y, test_size=0.2, random_state=0)"
   ]
  },
  {
   "cell_type": "markdown",
   "id": "b96c6ac8-3aa6-42e2-acc6-de6465ebb237",
   "metadata": {},
   "source": [
    "### 6.1 Applying Gradient Boosting Regressor"
   ]
  },
  {
   "cell_type": "code",
   "execution_count": null,
   "id": "ae0cee1f-5c7f-4210-9198-9f47a2a019c6",
   "metadata": {},
   "outputs": [],
   "source": [
    "gbs = GradientBoostingRegressor(loss='squared_error', learning_rate=0.1, n_estimators=100, subsample=1.0)\n",
    "model = gbs.fit(x_train, y_train)"
   ]
  },
  {
   "cell_type": "markdown",
   "id": "038f566e-2c65-4c62-bf11-56fa852c6498",
   "metadata": {},
   "source": [
    "## 7. Model Evaluation"
   ]
  },
  {
   "cell_type": "markdown",
   "id": "f18b65f1-0f20-4004-a172-e4fb3e7b2e5a",
   "metadata": {},
   "source": [
    "### 7.1 Predictions"
   ]
  },
  {
   "cell_type": "code",
   "execution_count": null,
   "id": "04aec088-847a-40dd-830d-fff611a36954",
   "metadata": {},
   "outputs": [],
   "source": [
    "y_pred = model.predict(x_test)"
   ]
  },
  {
   "cell_type": "markdown",
   "id": "e2a24d56-5e93-4c42-b1b4-ee783447c7da",
   "metadata": {},
   "source": [
    "### 7.2 Mean Squared Error (MSE)"
   ]
  },
  {
   "cell_type": "code",
   "execution_count": null,
   "id": "c359d148-0e67-4f45-822b-641893bcca40",
   "metadata": {},
   "outputs": [],
   "source": [
    "mse = mean_squared_error(y_test, y_pred)\n",
    "print(\"The mean squared error :\", mse)"
   ]
  },
  {
   "cell_type": "markdown",
   "id": "3fb7c2f5-fa12-427a-b63d-33254bab23f0",
   "metadata": {},
   "source": [
    "### Output:"
   ]
  },
  {
   "cell_type": "markdown",
   "id": "0ef51451-78ef-4d32-962c-fdafdd19a1fb",
   "metadata": {},
   "source": [
    "The mean squared error: 0.2052"
   ]
  },
  {
   "cell_type": "markdown",
   "id": "19134a74-ee95-40df-95e9-75f6206bf2c6",
   "metadata": {},
   "source": [
    "### 7.3 R2 Score"
   ]
  },
  {
   "cell_type": "code",
   "execution_count": null,
   "id": "0b778809-2ab9-4375-ad8d-518527076792",
   "metadata": {},
   "outputs": [],
   "source": [
    "r2 = r2_score(y_test, y_pred) * 10\n",
    "print(f\"Accuracy of R2_Score = {r2}\")"
   ]
  },
  {
   "cell_type": "markdown",
   "id": "0cc015fb-070e-4d6a-b13f-69c17365639a",
   "metadata": {},
   "source": [
    "### Output:"
   ]
  },
  {
   "cell_type": "markdown",
   "id": "65490b39-108d-4375-a545-fa263659645b",
   "metadata": {},
   "source": [
    "Accuracy of R2_Score = 1.1585"
   ]
  },
  {
   "cell_type": "markdown",
   "id": "e846b1f6-75f1-4ff9-a3a9-340d533a03bf",
   "metadata": {},
   "source": [
    "## 8. Conclusion"
   ]
  },
  {
   "cell_type": "markdown",
   "id": "a6db0b76-7d99-461c-ab0b-d846a8be8cab",
   "metadata": {},
   "source": [
    "The dataset contained missing values, which were replaced using the mode.  \n",
    "\n",
    "Categorical columns were encoded using **Label Encoding**.  \n",
    "\n",
    "The **Gradient Boosting Regressor** model was implemented.  \n",
    "\n",
    "- **Mean Squared Error (MSE)**: 0.2052, indicating a low prediction error.  \n",
    "- **R² Score (scaled by 10)**: 1.1585, suggesting a poor fit.  \n",
    "\n",
    "The model’s performance can be improved by **hyperparameter tuning** or experimenting with other regression models such as **Random Forest Regressor** or **XGBoost**.  \n",
    "\n",
    "This report provides a comprehensive analysis and evaluation of the **Titanic dataset** using **Gradient Boosting Regressor**.  \n"
   ]
  },
  {
   "cell_type": "code",
   "execution_count": null,
   "id": "a6ee8697-dac1-4668-bf7e-869b821fc7ef",
   "metadata": {},
   "outputs": [],
   "source": []
  }
 ],
 "metadata": {
  "kernelspec": {
   "display_name": "Python 3 (ipykernel)",
   "language": "python",
   "name": "python3"
  },
  "language_info": {
   "codemirror_mode": {
    "name": "ipython",
    "version": 3
   },
   "file_extension": ".py",
   "mimetype": "text/x-python",
   "name": "python",
   "nbconvert_exporter": "python",
   "pygments_lexer": "ipython3",
   "version": "3.12.4"
  }
 },
 "nbformat": 4,
 "nbformat_minor": 5
}
